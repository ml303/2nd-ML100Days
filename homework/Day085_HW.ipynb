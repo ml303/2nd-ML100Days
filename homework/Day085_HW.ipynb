{
 "cells": [
  {
   "cell_type": "markdown",
   "metadata": {},
   "source": [
    "## Work\n",
    "1. 試改變 monitor \"Validation Accuracy\" 並比較結果\n",
    "2. 調整 earlystop 的等待次數至 10, 25 並比較結果"
   ]
  },
  {
   "cell_type": "code",
   "execution_count": 1,
   "metadata": {},
   "outputs": [
    {
     "name": "stderr",
     "output_type": "stream",
     "text": [
      "Using TensorFlow backend.\n"
     ]
    }
   ],
   "source": [
    "import os\n",
    "import keras\n",
    "import matplotlib.pyplot as plt\n",
    "%matplotlib inline\n",
    "\n",
    "\n",
    "# Disable GPU\n",
    "os.environ[\"CUDA_VISIBLE_DEVICES\"] = \"\""
   ]
  },
  {
   "cell_type": "code",
   "execution_count": 2,
   "metadata": {},
   "outputs": [],
   "source": [
    "train, test = keras.datasets.cifar10.load_data()"
   ]
  },
  {
   "cell_type": "code",
   "execution_count": 3,
   "metadata": {},
   "outputs": [],
   "source": [
    "## 資料前處理\n",
    "def preproc_x(x, flatten=True):\n",
    "    x = x / 255.\n",
    "    if flatten:\n",
    "        x = x.reshape((len(x), -1))\n",
    "    return x\n",
    "\n",
    "def preproc_y(y, num_classes=10):\n",
    "    if y.shape[-1] == 1:\n",
    "        y = keras.utils.to_categorical(y, num_classes)\n",
    "    return y    "
   ]
  },
  {
   "cell_type": "code",
   "execution_count": 4,
   "metadata": {},
   "outputs": [],
   "source": [
    "x_train, y_train = train\n",
    "x_test, y_test = test\n",
    "\n",
    "# Preproc the inputs\n",
    "x_train = preproc_x(x_train)\n",
    "x_test = preproc_x(x_test)\n",
    "\n",
    "# Preprc the outputs\n",
    "y_train = preproc_y(y_train)\n",
    "y_test = preproc_y(y_test)"
   ]
  },
  {
   "cell_type": "code",
   "execution_count": 10,
   "metadata": {},
   "outputs": [
    {
     "name": "stdout",
     "output_type": "stream",
     "text": [
      "Model: \"model_3\"\n",
      "_________________________________________________________________\n",
      "Layer (type)                 Output Shape              Param #   \n",
      "=================================================================\n",
      "input_3 (InputLayer)         (None, 3072)              0         \n",
      "_________________________________________________________________\n",
      "hidden_layer1 (Dense)        (None, 512)               1573376   \n",
      "_________________________________________________________________\n",
      "batch_normalization_7 (Batch (None, 512)               2048      \n",
      "_________________________________________________________________\n",
      "hidden_layer2 (Dense)        (None, 256)               131328    \n",
      "_________________________________________________________________\n",
      "batch_normalization_8 (Batch (None, 256)               1024      \n",
      "_________________________________________________________________\n",
      "hidden_layer3 (Dense)        (None, 128)               32896     \n",
      "_________________________________________________________________\n",
      "batch_normalization_9 (Batch (None, 128)               512       \n",
      "_________________________________________________________________\n",
      "output (Dense)               (None, 10)                1290      \n",
      "=================================================================\n",
      "Total params: 1,742,474\n",
      "Trainable params: 1,740,682\n",
      "Non-trainable params: 1,792\n",
      "_________________________________________________________________\n",
      "Train on 50000 samples, validate on 10000 samples\n",
      "Epoch 1/50\n",
      "50000/50000 [==============================] - 21s 424us/step - loss: 2.2008 - accuracy: 0.2729 - val_loss: 2.1429 - val_accuracy: 0.2001\n",
      "Epoch 2/50\n",
      "50000/50000 [==============================] - 10s 202us/step - loss: 1.7376 - accuracy: 0.3946 - val_loss: 1.9627 - val_accuracy: 0.3055\n",
      "Epoch 3/50\n",
      "50000/50000 [==============================] - 9s 175us/step - loss: 1.6128 - accuracy: 0.4354 - val_loss: 1.8301 - val_accuracy: 0.3656\n",
      "Epoch 4/50\n",
      "50000/50000 [==============================] - 8s 169us/step - loss: 1.5424 - accuracy: 0.4584 - val_loss: 1.7330 - val_accuracy: 0.3951\n",
      "Epoch 5/50\n",
      "50000/50000 [==============================] - 8s 163us/step - loss: 1.4838 - accuracy: 0.4805 - val_loss: 1.6491 - val_accuracy: 0.4234\n",
      "Epoch 6/50\n",
      "50000/50000 [==============================] - 8s 154us/step - loss: 1.4389 - accuracy: 0.4968 - val_loss: 1.5899 - val_accuracy: 0.4367\n",
      "Epoch 7/50\n",
      "50000/50000 [==============================] - 8s 154us/step - loss: 1.3988 - accuracy: 0.5120 - val_loss: 1.5585 - val_accuracy: 0.4537\n",
      "Epoch 8/50\n",
      "50000/50000 [==============================] - 10s 191us/step - loss: 1.3649 - accuracy: 0.5243 - val_loss: 1.5225 - val_accuracy: 0.4631\n",
      "Epoch 9/50\n",
      "50000/50000 [==============================] - 16s 325us/step - loss: 1.3307 - accuracy: 0.5373 - val_loss: 1.5071 - val_accuracy: 0.4711\n",
      "Epoch 10/50\n",
      "50000/50000 [==============================] - 12s 234us/step - loss: 1.2993 - accuracy: 0.5484 - val_loss: 1.4969 - val_accuracy: 0.4757\n",
      "Epoch 11/50\n",
      "50000/50000 [==============================] - 10s 207us/step - loss: 1.2731 - accuracy: 0.5574 - val_loss: 1.4851 - val_accuracy: 0.4761\n",
      "Epoch 12/50\n",
      "50000/50000 [==============================] - 10s 201us/step - loss: 1.2438 - accuracy: 0.5687 - val_loss: 1.4879 - val_accuracy: 0.4763\n",
      "Epoch 13/50\n",
      "50000/50000 [==============================] - 9s 190us/step - loss: 1.2167 - accuracy: 0.5779 - val_loss: 1.4816 - val_accuracy: 0.4779\n",
      "Epoch 14/50\n",
      "50000/50000 [==============================] - 10s 197us/step - loss: 1.1922 - accuracy: 0.5891 - val_loss: 1.4639 - val_accuracy: 0.4851\n",
      "Epoch 15/50\n",
      "50000/50000 [==============================] - 11s 213us/step - loss: 1.1665 - accuracy: 0.5977 - val_loss: 1.4691 - val_accuracy: 0.4859\n",
      "Epoch 16/50\n",
      "50000/50000 [==============================] - 9s 190us/step - loss: 1.1434 - accuracy: 0.6061 - val_loss: 1.4599 - val_accuracy: 0.4913\n",
      "Epoch 17/50\n",
      "50000/50000 [==============================] - 9s 180us/step - loss: 1.1192 - accuracy: 0.6178 - val_loss: 1.4770 - val_accuracy: 0.4837\n",
      "Epoch 18/50\n",
      "50000/50000 [==============================] - 9s 189us/step - loss: 1.0963 - accuracy: 0.6254 - val_loss: 1.4632 - val_accuracy: 0.4907\n",
      "Epoch 19/50\n",
      "50000/50000 [==============================] - 9s 171us/step - loss: 1.0725 - accuracy: 0.6340 - val_loss: 1.4557 - val_accuracy: 0.4925\n",
      "Epoch 20/50\n",
      "50000/50000 [==============================] - 9s 180us/step - loss: 1.0509 - accuracy: 0.6423 - val_loss: 1.4660 - val_accuracy: 0.4916\n",
      "Epoch 21/50\n",
      "50000/50000 [==============================] - 9s 184us/step - loss: 1.0288 - accuracy: 0.6499 - val_loss: 1.4575 - val_accuracy: 0.4971\n",
      "Epoch 22/50\n",
      "50000/50000 [==============================] - 9s 177us/step - loss: 1.0057 - accuracy: 0.6583 - val_loss: 1.4593 - val_accuracy: 0.4951\n",
      "Epoch 23/50\n",
      "50000/50000 [==============================] - 9s 174us/step - loss: 0.9854 - accuracy: 0.6673 - val_loss: 1.4659 - val_accuracy: 0.4974\n",
      "Epoch 24/50\n",
      "50000/50000 [==============================] - 8s 167us/step - loss: 0.9626 - accuracy: 0.6769 - val_loss: 1.4592 - val_accuracy: 0.4986\n",
      "Epoch 00024: early stopping\n"
     ]
    },
    {
     "ename": "KeyError",
     "evalue": "'acc'",
     "output_type": "error",
     "traceback": [
      "\u001b[0;31m---------------------------------------------------------------------------\u001b[0m",
      "\u001b[0;31mKeyError\u001b[0m                                  Traceback (most recent call last)",
      "\u001b[0;32m<ipython-input-10-4d899acf8172>\u001b[0m in \u001b[0;36m<module>\u001b[0;34m\u001b[0m\n\u001b[1;32m     56\u001b[0m \u001b[0mtrain_loss\u001b[0m \u001b[0;34m=\u001b[0m \u001b[0mmodel\u001b[0m\u001b[0;34m.\u001b[0m\u001b[0mhistory\u001b[0m\u001b[0;34m.\u001b[0m\u001b[0mhistory\u001b[0m\u001b[0;34m[\u001b[0m\u001b[0;34m\"loss\"\u001b[0m\u001b[0;34m]\u001b[0m\u001b[0;34m\u001b[0m\u001b[0;34m\u001b[0m\u001b[0m\n\u001b[1;32m     57\u001b[0m \u001b[0mvalid_loss\u001b[0m \u001b[0;34m=\u001b[0m \u001b[0mmodel\u001b[0m\u001b[0;34m.\u001b[0m\u001b[0mhistory\u001b[0m\u001b[0;34m.\u001b[0m\u001b[0mhistory\u001b[0m\u001b[0;34m[\u001b[0m\u001b[0;34m\"val_loss\"\u001b[0m\u001b[0;34m]\u001b[0m\u001b[0;34m\u001b[0m\u001b[0;34m\u001b[0m\u001b[0m\n\u001b[0;32m---> 58\u001b[0;31m \u001b[0mtrain_acc\u001b[0m \u001b[0;34m=\u001b[0m \u001b[0mmodel\u001b[0m\u001b[0;34m.\u001b[0m\u001b[0mhistory\u001b[0m\u001b[0;34m.\u001b[0m\u001b[0mhistory\u001b[0m\u001b[0;34m[\u001b[0m\u001b[0;34m\"acc\"\u001b[0m\u001b[0;34m]\u001b[0m\u001b[0;34m\u001b[0m\u001b[0;34m\u001b[0m\u001b[0m\n\u001b[0m\u001b[1;32m     59\u001b[0m \u001b[0mvalid_acc\u001b[0m \u001b[0;34m=\u001b[0m \u001b[0mmodel\u001b[0m\u001b[0;34m.\u001b[0m\u001b[0mhistory\u001b[0m\u001b[0;34m.\u001b[0m\u001b[0mhistory\u001b[0m\u001b[0;34m[\u001b[0m\u001b[0;34m\"val_acc\"\u001b[0m\u001b[0;34m]\u001b[0m\u001b[0;34m\u001b[0m\u001b[0;34m\u001b[0m\u001b[0m\n",
      "\u001b[0;31mKeyError\u001b[0m: 'acc'"
     ]
    }
   ],
   "source": [
    "\"\"\"Code Here\n",
    "設定超參數\n",
    "\"\"\"\n",
    "## 超參數設定\n",
    "LEARNING_RATE = 1e-3\n",
    "EPOCHS = 50\n",
    "BATCH_SIZE = 1024\n",
    "MOMENTUM = 0.95\n",
    "\n",
    "from keras.callbacks import EarlyStopping\n",
    "\n",
    "earlystop = EarlyStopping(monitor=\"val_loss\", \n",
    "                          patience=5, \n",
    "                          verbose=1\n",
    "                          )\n",
    "from keras.layers import BatchNormalization\n",
    "\n",
    "\n",
    "\"\"\"\n",
    "建立神經網路，並加入 BN layer\n",
    "\"\"\"\n",
    "def build_mlp(input_shape, output_units=10, num_neurons=[512, 256, 128]):\n",
    "    input_layer = keras.layers.Input(input_shape)\n",
    "    \n",
    "    for i, n_units in enumerate(num_neurons):\n",
    "        if i == 0:\n",
    "            x = keras.layers.Dense(units=n_units, \n",
    "                                   activation=\"relu\", \n",
    "                                   name=\"hidden_layer\"+str(i+1))(input_layer)\n",
    "            x = BatchNormalization()(x)\n",
    "        else:\n",
    "            x = keras.layers.Dense(units=n_units, \n",
    "                                   activation=\"relu\", \n",
    "                                   name=\"hidden_layer\"+str(i+1))(x)\n",
    "            x = BatchNormalization()(x)\n",
    "    \n",
    "    out = keras.layers.Dense(units=output_units, activation=\"softmax\", name=\"output\")(x)\n",
    "    \n",
    "    model = keras.models.Model(inputs=[input_layer], outputs=[out])\n",
    "    return model\n",
    "\n",
    "model = build_mlp(input_shape=x_train.shape[1:])\n",
    "model.summary()\n",
    "optimizer = keras.optimizers.SGD(lr=LEARNING_RATE, nesterov=True, momentum=MOMENTUM)\n",
    "model.compile(loss=\"categorical_crossentropy\", metrics=[\"accuracy\"], optimizer=optimizer)\n",
    "\n",
    "model.fit(x_train, y_train, \n",
    "          epochs=EPOCHS, \n",
    "          batch_size=BATCH_SIZE, \n",
    "          validation_data=(x_test, y_test), \n",
    "          shuffle=True,\n",
    "          callbacks=[earlystop]\n",
    "         )\n",
    "\n",
    "# Collect results\n",
    "train_loss = model.history.history[\"loss\"]\n",
    "valid_loss = model.history.history[\"val_loss\"]\n",
    "train_acc = model.history.history[\"acc\"]\n",
    "valid_acc = model.history.history[\"val_acc\"]"
   ]
  },
  {
   "cell_type": "code",
   "execution_count": null,
   "metadata": {},
   "outputs": [],
   "source": [
    "\"\"\"Code Here\n",
    "設定超參數\n",
    "\"\"\"\n",
    "## 超參數設定\n",
    "LEARNING_RATE = 1e-3\n",
    "EPOCHS = 50\n",
    "BATCH_SIZE = 1024\n",
    "MOMENTUM = 0.95"
   ]
  },
  {
   "cell_type": "code",
   "execution_count": null,
   "metadata": {},
   "outputs": [],
   "source": [
    "# 載入 Callbacks\n",
    "\"\"\"Code Here\n",
    "設定 callbacks: Earlystop\n",
    "\"\"\"\n",
    "\"\"\"\n",
    "# 載入 Callbacks, 並將 monitor 設定為監控 validation loss\n",
    "\"\"\"\n",
    "results = {}\n",
    "\"\"\"Code Here\n",
    "撰寫你的訓練流程並將結果用 dictionary 紀錄\n",
    "\"\"\"\n",
    "from keras.callbacks import EarlyStopping\n",
    "\n",
    "earlystop = EarlyStopping(monitor=\"validation loss\", \n",
    "                          patience=25, \n",
    "                          verbose=1\n",
    "                          )\n"
   ]
  },
  {
   "cell_type": "code",
   "execution_count": null,
   "metadata": {},
   "outputs": [],
   "source": [
    "import matplotlib.pyplot as plt\n",
    "%matplotlib inline\n",
    "\n",
    "plt.plot(range(len(train_loss)), train_loss, label=\"train loss\")\n",
    "plt.plot(range(len(valid_loss)), valid_loss, label=\"valid loss\")\n",
    "plt.legend()\n",
    "plt.title(\"Loss\")\n",
    "plt.show()\n",
    "\n",
    "plt.plot(range(len(train_acc)), train_acc, label=\"train accuracy\")\n",
    "plt.plot(range(len(valid_acc)), valid_acc, label=\"valid accuracy\")\n",
    "plt.legend()\n",
    "plt.title(\"Accuracy\")\n",
    "plt.show()"
   ]
  },
  {
   "cell_type": "code",
   "execution_count": null,
   "metadata": {},
   "outputs": [],
   "source": []
  }
 ],
 "metadata": {
  "kernelspec": {
   "display_name": "Python 3",
   "language": "python",
   "name": "python3"
  },
  "language_info": {
   "codemirror_mode": {
    "name": "ipython",
    "version": 3
   },
   "file_extension": ".py",
   "mimetype": "text/x-python",
   "name": "python",
   "nbconvert_exporter": "python",
   "pygments_lexer": "ipython3",
   "version": "3.7.3"
  }
 },
 "nbformat": 4,
 "nbformat_minor": 2
}
