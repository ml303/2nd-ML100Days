{
 "cells": [
  {
   "cell_type": "markdown",
   "metadata": {},
   "source": [
    "# [作業目標]\n",
    "- 仿造範例的 One Hot Encoding, 將指定的資料進行編碼"
   ]
  },
  {
   "cell_type": "markdown",
   "metadata": {},
   "source": [
    "# [作業重點]\n",
    "- 將 sub_train 進行 One Hot Encoding 編碼 (In[4], Out[4])"
   ]
  },
  {
   "cell_type": "code",
   "execution_count": 25,
   "metadata": {
    "colab": {},
    "colab_type": "code",
    "id": "lh9gyloHVblR"
   },
   "outputs": [],
   "source": [
    "import os\n",
    "import numpy as np\n",
    "import pandas as pd"
   ]
  },
  {
   "cell_type": "code",
   "execution_count": 26,
   "metadata": {
    "colab": {},
    "colab_type": "code",
    "id": "z4iLB9cKVblV"
   },
   "outputs": [],
   "source": [
    "# 設定 data_path, 並讀取 app_train\n",
    "dir_data = './data/'\n",
    "f_app_train = os.path.join(dir_data, 'application_train.csv')\n",
    "app_train = pd.read_csv(f_app_train)"
   ]
  },
  {
   "cell_type": "markdown",
   "metadata": {
    "colab": {},
    "colab_type": "code",
    "collapsed": true,
    "id": "d5IeEcPVVblq"
   },
   "source": [
    "## 作業\n",
    "將下列部分資料片段 sub_train 使用 One Hot encoding, 並觀察轉換前後的欄位數量 (使用 shape) 與欄位名稱 (使用 head) 變化"
   ]
  },
  {
   "cell_type": "code",
   "execution_count": 36,
   "metadata": {},
   "outputs": [
    {
     "name": "stdout",
     "output_type": "stream",
     "text": [
      "(307511, 1)\n"
     ]
    },
    {
     "data": {
      "text/plain": [
       "object    1\n",
       "dtype: int64"
      ]
     },
     "execution_count": 36,
     "metadata": {},
     "output_type": "execute_result"
    }
   ],
   "source": [
    "sub_train = pd.DataFrame(app_train['WEEKDAY_APPR_PROCESS_START'])\n",
    "print(sub_train.shape)\n",
    "sub_train.head()\n",
    "sub_train.dtypes.value_counts()\n"
   ]
  },
  {
   "cell_type": "code",
   "execution_count": 37,
   "metadata": {},
   "outputs": [
    {
     "name": "stdout",
     "output_type": "stream",
     "text": [
      "1 columns were label encoded.\n",
      "        WEEKDAY_APPR_PROCESS_START\n",
      "0                                6\n",
      "1                                1\n",
      "2                                1\n",
      "3                                6\n",
      "4                                4\n",
      "5                                6\n",
      "6                                3\n",
      "7                                1\n",
      "8                                6\n",
      "9                                4\n",
      "10                               2\n",
      "11                               0\n",
      "12                               0\n",
      "13                               4\n",
      "14                               1\n",
      "15                               2\n",
      "16                               4\n",
      "17                               1\n",
      "18                               0\n",
      "19                               1\n",
      "20                               0\n",
      "21                               1\n",
      "22                               4\n",
      "23                               0\n",
      "24                               4\n",
      "25                               2\n",
      "26                               1\n",
      "27                               2\n",
      "28                               6\n",
      "29                               5\n",
      "...                            ...\n",
      "307481                           0\n",
      "307482                           4\n",
      "307483                           1\n",
      "307484                           1\n",
      "307485                           2\n",
      "307486                           2\n",
      "307487                           6\n",
      "307488                           6\n",
      "307489                           0\n",
      "307490                           2\n",
      "307491                           2\n",
      "307492                           0\n",
      "307493                           1\n",
      "307494                           1\n",
      "307495                           6\n",
      "307496                           4\n",
      "307497                           4\n",
      "307498                           1\n",
      "307499                           5\n",
      "307500                           0\n",
      "307501                           6\n",
      "307502                           1\n",
      "307503                           2\n",
      "307504                           6\n",
      "307505                           1\n",
      "307506                           4\n",
      "307507                           1\n",
      "307508                           4\n",
      "307509                           6\n",
      "307510                           4\n",
      "\n",
      "[307511 rows x 1 columns]\n",
      "(307511, 1)\n",
      "   WEEKDAY_APPR_PROCESS_START\n",
      "0                           6\n",
      "1                           1\n",
      "2                           1\n",
      "3                           6\n",
      "4                           4\n"
     ]
    }
   ],
   "source": [
    "\"\"\"\n",
    "Your Code Here\n",
    "\"\"\"\n",
    "sub_train.select_dtypes(include=[\"object\"]).apply(pd.Series.nunique, axis = 0)\n",
    "sub_train.dtypes.value_counts()\n",
    "\n",
    "from sklearn.preprocessing import LabelEncoder\n",
    "\n",
    "# Create a label encoder object\n",
    "le = LabelEncoder()\n",
    "le_count = 0\n",
    "\n",
    "# Iterate through the columns\n",
    "for col in sub_train:\n",
    "    if sub_train[col].dtype == 'object':\n",
    "        # Train on the training data\n",
    "        le.fit(sub_train[col])\n",
    "        # Transform both training and testing data\n",
    "        sub_train[col] = le.transform(sub_train[col])\n",
    "            \n",
    "        # Keep track of how many columns were label encoded\n",
    "        le_count += 1\n",
    "            \n",
    "print('%d columns were label encoded.' % le_count)\n",
    "print(sub_train)\n",
    "\n",
    "app_train_hot = pd.get_dummies(sub_train)\n",
    "print(app_train_hot.shape)\n",
    "print(app_train_hot.head())\n"
   ]
  },
  {
   "cell_type": "code",
   "execution_count": null,
   "metadata": {},
   "outputs": [],
   "source": []
  }
 ],
 "metadata": {
  "colab": {
   "name": "Day_004_column_data_type.ipynb",
   "provenance": [],
   "version": "0.3.2"
  },
  "kernelspec": {
   "display_name": "Python 3",
   "language": "python",
   "name": "python3"
  },
  "language_info": {
   "codemirror_mode": {
    "name": "ipython",
    "version": 3
   },
   "file_extension": ".py",
   "mimetype": "text/x-python",
   "name": "python",
   "nbconvert_exporter": "python",
   "pygments_lexer": "ipython3",
   "version": "3.7.3"
  }
 },
 "nbformat": 4,
 "nbformat_minor": 1
}
