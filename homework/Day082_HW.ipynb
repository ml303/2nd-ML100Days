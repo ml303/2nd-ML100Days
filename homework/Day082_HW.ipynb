{
 "cells": [
  {
   "cell_type": "markdown",
   "metadata": {},
   "source": [
    "## Work\n",
    "1. 請比較使用不同層數以及不同 Dropout rate 對訓練的效果\n",
    "2. 將 optimizer 改成使用 Adam 並加上適當的 dropout rate 檢視結果"
   ]
  },
  {
   "cell_type": "code",
   "execution_count": 13,
   "metadata": {},
   "outputs": [],
   "source": [
    "import os\n",
    "import keras\n",
    "import itertools\n",
    "# Disable GPU\n",
    "os.environ[\"CUDA_VISIBLE_DEVICES\"] = \"\""
   ]
  },
  {
   "cell_type": "code",
   "execution_count": 14,
   "metadata": {},
   "outputs": [],
   "source": [
    "train, test = keras.datasets.cifar10.load_data()"
   ]
  },
  {
   "cell_type": "code",
   "execution_count": 15,
   "metadata": {},
   "outputs": [],
   "source": [
    "## 資料前處理\n",
    "def preproc_x(x, flatten=True):\n",
    "    x = x / 255.\n",
    "    if flatten:\n",
    "        x = x.reshape((len(x), -1))\n",
    "    return x\n",
    "\n",
    "def preproc_y(y, num_classes=10):\n",
    "    if y.shape[-1] == 1:\n",
    "        y = keras.utils.to_categorical(y, num_classes)\n",
    "    return y    "
   ]
  },
  {
   "cell_type": "code",
   "execution_count": 16,
   "metadata": {},
   "outputs": [],
   "source": [
    "x_train, y_train = train\n",
    "x_test, y_test = test\n",
    "\n",
    "# Preproc the inputs\n",
    "x_train = preproc_x(x_train)\n",
    "x_test = preproc_x(x_test)\n",
    "\n",
    "# Preprc the outputs\n",
    "y_train = preproc_y(y_train)\n",
    "y_test = preproc_y(y_test)"
   ]
  },
  {
   "cell_type": "code",
   "execution_count": 17,
   "metadata": {},
   "outputs": [],
   "source": [
    "from keras.layers import Dropout\n",
    "\n",
    "def build_mlp(input_shape, output_units=10, num_neurons=[512, 256, 128], drp_ratio=0.25):\n",
    "    \"\"\"Code Here\n",
    "    建立你的神經網路\n",
    "    \"\"\"\n",
    "    input_layer = keras.layers.Input(input_shape)\n",
    "    \n",
    "    for i, n_units in enumerate(num_neurons):\n",
    "        if i == 0:\n",
    "            x = keras.layers.Dense(units=n_units, \n",
    "                                   activation=\"relu\", \n",
    "                                   name=\"hidden_layer\"+str(i+1))(input_layer)\n",
    "            x = Dropout(drp_ratio)(x)\n",
    "        else:\n",
    "            x = keras.layers.Dense(units=n_units, \n",
    "                                   activation=\"relu\", \n",
    "                                   name=\"hidden_layer\"+str(i+1))(x)\n",
    "            x = Dropout(drp_ratio)(x)\n",
    "    \n",
    "    out = keras.layers.Dense(units=output_units, activation=\"softmax\", name=\"output\")(x)\n",
    "    \n",
    "    model = keras.models.Model(inputs=[input_layer], outputs=[out])\n",
    "    return model\n"
   ]
  },
  {
   "cell_type": "code",
   "execution_count": 18,
   "metadata": {},
   "outputs": [],
   "source": [
    "\"\"\"Code Here\n",
    "設定超參數\n",
    "\"\"\"\n",
    "LEARNING_RATE = 1e-3\n",
    "EPOCHS = 50\n",
    "BATCH_SIZE = 256\n",
    "MOMENTUM = 0.95\n",
    "Dropout_EXP = 0.25"
   ]
  },
  {
   "cell_type": "code",
   "execution_count": 19,
   "metadata": {
    "scrolled": true
   },
   "outputs": [
    {
     "name": "stdout",
     "output_type": "stream",
     "text": [
      "Model: \"model_4\"\n",
      "_________________________________________________________________\n",
      "Layer (type)                 Output Shape              Param #   \n",
      "=================================================================\n",
      "input_4 (InputLayer)         (None, 3072)              0         \n",
      "_________________________________________________________________\n",
      "hidden_layer1 (Dense)        (None, 512)               1573376   \n",
      "_________________________________________________________________\n",
      "dropout_10 (Dropout)         (None, 512)               0         \n",
      "_________________________________________________________________\n",
      "hidden_layer2 (Dense)        (None, 256)               131328    \n",
      "_________________________________________________________________\n",
      "dropout_11 (Dropout)         (None, 256)               0         \n",
      "_________________________________________________________________\n",
      "hidden_layer3 (Dense)        (None, 128)               32896     \n",
      "_________________________________________________________________\n",
      "dropout_12 (Dropout)         (None, 128)               0         \n",
      "_________________________________________________________________\n",
      "output (Dense)               (None, 10)                1290      \n",
      "=================================================================\n",
      "Total params: 1,738,890\n",
      "Trainable params: 1,738,890\n",
      "Non-trainable params: 0\n",
      "_________________________________________________________________\n",
      "Train on 50000 samples, validate on 10000 samples\n",
      "Epoch 1/50\n",
      "50000/50000 [==============================] - 14s 272us/step - loss: 2.0640 - accuracy: 0.2361 - val_loss: 1.8735 - val_accuracy: 0.3339\n",
      "Epoch 2/50\n",
      "50000/50000 [==============================] - 13s 263us/step - loss: 1.8886 - accuracy: 0.3120 - val_loss: 1.7567 - val_accuracy: 0.3749\n",
      "Epoch 3/50\n",
      "50000/50000 [==============================] - 16s 319us/step - loss: 1.8339 - accuracy: 0.3384 - val_loss: 1.7280 - val_accuracy: 0.3878\n",
      "Epoch 4/50\n",
      "50000/50000 [==============================] - 14s 279us/step - loss: 1.8031 - accuracy: 0.3467 - val_loss: 1.7119 - val_accuracy: 0.3990\n",
      "Epoch 5/50\n",
      "50000/50000 [==============================] - 15s 299us/step - loss: 1.7586 - accuracy: 0.3659 - val_loss: 1.6499 - val_accuracy: 0.4118\n",
      "Epoch 6/50\n",
      "50000/50000 [==============================] - 12s 247us/step - loss: 1.7438 - accuracy: 0.3712 - val_loss: 1.6594 - val_accuracy: 0.4192\n",
      "Epoch 7/50\n",
      "50000/50000 [==============================] - 15s 296us/step - loss: 1.7193 - accuracy: 0.3817 - val_loss: 1.6318 - val_accuracy: 0.4256\n",
      "Epoch 8/50\n",
      "50000/50000 [==============================] - 17s 350us/step - loss: 1.7056 - accuracy: 0.3855 - val_loss: 1.5964 - val_accuracy: 0.4398\n",
      "Epoch 9/50\n",
      "50000/50000 [==============================] - 12s 244us/step - loss: 1.6776 - accuracy: 0.3979 - val_loss: 1.5812 - val_accuracy: 0.4321\n",
      "Epoch 10/50\n",
      "50000/50000 [==============================] - 12s 239us/step - loss: 1.6755 - accuracy: 0.3955 - val_loss: 1.6167 - val_accuracy: 0.4381\n",
      "Epoch 11/50\n",
      "50000/50000 [==============================] - 13s 268us/step - loss: 1.6547 - accuracy: 0.4025 - val_loss: 1.5693 - val_accuracy: 0.4561\n",
      "Epoch 12/50\n",
      "50000/50000 [==============================] - 14s 272us/step - loss: 1.6473 - accuracy: 0.4066 - val_loss: 1.5693 - val_accuracy: 0.4403\n",
      "Epoch 13/50\n",
      "50000/50000 [==============================] - 21s 410us/step - loss: 1.6381 - accuracy: 0.4103 - val_loss: 1.5568 - val_accuracy: 0.4508\n",
      "Epoch 14/50\n",
      "50000/50000 [==============================] - 20s 403us/step - loss: 1.6268 - accuracy: 0.4146 - val_loss: 1.5637 - val_accuracy: 0.4510\n",
      "Epoch 15/50\n",
      "50000/50000 [==============================] - 21s 430us/step - loss: 1.6347 - accuracy: 0.4105 - val_loss: 1.5880 - val_accuracy: 0.4363\n",
      "Epoch 16/50\n",
      "50000/50000 [==============================] - 20s 396us/step - loss: 1.6205 - accuracy: 0.4177 - val_loss: 1.5617 - val_accuracy: 0.4449\n",
      "Epoch 17/50\n",
      "50000/50000 [==============================] - 12s 239us/step - loss: 1.6165 - accuracy: 0.4183 - val_loss: 1.5350 - val_accuracy: 0.4571\n",
      "Epoch 18/50\n",
      "50000/50000 [==============================] - 13s 254us/step - loss: 1.5954 - accuracy: 0.4269 - val_loss: 1.5319 - val_accuracy: 0.4647\n",
      "Epoch 19/50\n",
      "50000/50000 [==============================] - 12s 243us/step - loss: 1.5976 - accuracy: 0.4258 - val_loss: 1.5078 - val_accuracy: 0.4681\n",
      "Epoch 20/50\n",
      "50000/50000 [==============================] - 13s 268us/step - loss: 1.5900 - accuracy: 0.4294 - val_loss: 1.5219 - val_accuracy: 0.4661\n",
      "Epoch 21/50\n",
      "50000/50000 [==============================] - 21s 421us/step - loss: 1.5764 - accuracy: 0.4349 - val_loss: 1.5038 - val_accuracy: 0.4697\n",
      "Epoch 22/50\n",
      "50000/50000 [==============================] - 16s 330us/step - loss: 1.5821 - accuracy: 0.4314 - val_loss: 1.5240 - val_accuracy: 0.4676\n",
      "Epoch 23/50\n",
      "50000/50000 [==============================] - 11s 218us/step - loss: 1.5744 - accuracy: 0.4337 - val_loss: 1.4997 - val_accuracy: 0.4747\n",
      "Epoch 24/50\n",
      "50000/50000 [==============================] - 12s 233us/step - loss: 1.5599 - accuracy: 0.4379 - val_loss: 1.5304 - val_accuracy: 0.4619\n",
      "Epoch 25/50\n",
      "50000/50000 [==============================] - 12s 235us/step - loss: 1.5682 - accuracy: 0.4385 - val_loss: 1.5066 - val_accuracy: 0.4634\n",
      "Epoch 26/50\n",
      "50000/50000 [==============================] - 11s 217us/step - loss: 1.5585 - accuracy: 0.4420 - val_loss: 1.5117 - val_accuracy: 0.4658\n",
      "Epoch 27/50\n",
      "50000/50000 [==============================] - 11s 221us/step - loss: 1.5506 - accuracy: 0.4413 - val_loss: 1.4941 - val_accuracy: 0.4787\n",
      "Epoch 28/50\n",
      "50000/50000 [==============================] - 11s 216us/step - loss: 1.5411 - accuracy: 0.4467 - val_loss: 1.4967 - val_accuracy: 0.4701\n",
      "Epoch 29/50\n",
      "50000/50000 [==============================] - 13s 265us/step - loss: 1.5482 - accuracy: 0.4435 - val_loss: 1.4880 - val_accuracy: 0.4842\n",
      "Epoch 30/50\n",
      "50000/50000 [==============================] - 17s 349us/step - loss: 1.5370 - accuracy: 0.4479 - val_loss: 1.4766 - val_accuracy: 0.4811\n",
      "Epoch 31/50\n",
      "50000/50000 [==============================] - 13s 265us/step - loss: 1.5349 - accuracy: 0.4493 - val_loss: 1.4672 - val_accuracy: 0.4812\n",
      "Epoch 32/50\n",
      "50000/50000 [==============================] - 12s 230us/step - loss: 1.5294 - accuracy: 0.4518 - val_loss: 1.5100 - val_accuracy: 0.4657\n",
      "Epoch 33/50\n",
      "50000/50000 [==============================] - 14s 271us/step - loss: 1.5290 - accuracy: 0.4510 - val_loss: 1.4982 - val_accuracy: 0.4679\n",
      "Epoch 34/50\n",
      "50000/50000 [==============================] - 19s 386us/step - loss: 1.5232 - accuracy: 0.4557 - val_loss: 1.4724 - val_accuracy: 0.4790\n",
      "Epoch 35/50\n",
      "50000/50000 [==============================] - 11s 215us/step - loss: 1.5167 - accuracy: 0.4553 - val_loss: 1.5018 - val_accuracy: 0.4672\n",
      "Epoch 36/50\n",
      "50000/50000 [==============================] - 14s 274us/step - loss: 1.5163 - accuracy: 0.4567 - val_loss: 1.4572 - val_accuracy: 0.4853\n",
      "Epoch 37/50\n",
      "50000/50000 [==============================] - 12s 249us/step - loss: 1.4993 - accuracy: 0.4618 - val_loss: 1.4857 - val_accuracy: 0.4739\n",
      "Epoch 38/50\n",
      "50000/50000 [==============================] - 18s 351us/step - loss: 1.5037 - accuracy: 0.4583 - val_loss: 1.4890 - val_accuracy: 0.4742\n",
      "Epoch 39/50\n",
      "50000/50000 [==============================] - 21s 415us/step - loss: 1.5091 - accuracy: 0.4604 - val_loss: 1.4787 - val_accuracy: 0.4729\n",
      "Epoch 40/50\n",
      "50000/50000 [==============================] - 16s 316us/step - loss: 1.5077 - accuracy: 0.4595 - val_loss: 1.4697 - val_accuracy: 0.4808\n",
      "Epoch 41/50\n",
      "50000/50000 [==============================] - 17s 341us/step - loss: 1.4989 - accuracy: 0.4629 - val_loss: 1.4579 - val_accuracy: 0.4810\n",
      "Epoch 42/50\n",
      "50000/50000 [==============================] - 20s 393us/step - loss: 1.4936 - accuracy: 0.4621 - val_loss: 1.4562 - val_accuracy: 0.4819\n",
      "Epoch 43/50\n",
      "50000/50000 [==============================] - 15s 309us/step - loss: 1.4919 - accuracy: 0.4632 - val_loss: 1.4723 - val_accuracy: 0.4798\n",
      "Epoch 44/50\n",
      "50000/50000 [==============================] - 16s 317us/step - loss: 1.4857 - accuracy: 0.4673 - val_loss: 1.4486 - val_accuracy: 0.4924\n",
      "Epoch 45/50\n",
      "50000/50000 [==============================] - 15s 305us/step - loss: 1.4832 - accuracy: 0.4677 - val_loss: 1.4517 - val_accuracy: 0.4815\n"
     ]
    },
    {
     "name": "stdout",
     "output_type": "stream",
     "text": [
      "Epoch 46/50\n",
      "50000/50000 [==============================] - 17s 338us/step - loss: 1.4813 - accuracy: 0.4685 - val_loss: 1.4430 - val_accuracy: 0.4864\n",
      "Epoch 47/50\n",
      "50000/50000 [==============================] - 13s 258us/step - loss: 1.4801 - accuracy: 0.4682 - val_loss: 1.4538 - val_accuracy: 0.4838\n",
      "Epoch 48/50\n",
      "50000/50000 [==============================] - 12s 243us/step - loss: 1.4813 - accuracy: 0.4676 - val_loss: 1.4507 - val_accuracy: 0.4854\n",
      "Epoch 49/50\n",
      "50000/50000 [==============================] - 13s 263us/step - loss: 1.4817 - accuracy: 0.4674 - val_loss: 1.4581 - val_accuracy: 0.4786\n",
      "Epoch 50/50\n",
      "50000/50000 [==============================] - 15s 302us/step - loss: 1.4698 - accuracy: 0.4720 - val_loss: 1.4376 - val_accuracy: 0.4891\n"
     ]
    }
   ],
   "source": [
    "results = {}\n",
    "\"\"\"Code Here\n",
    "撰寫你的訓練流程並將結果用 dictionary 紀錄\n",
    "\"\"\"\n",
    "model = build_mlp(input_shape=x_train.shape[1:], drp_ratio=Dropout_EXP)\n",
    "model.summary()\n",
    "\n",
    "model.compile(loss=\"categorical_crossentropy\", metrics=[\"accuracy\"], optimizer = 'adam')\n",
    "\n",
    "model.fit(x_train, y_train, \n",
    "          epochs=EPOCHS, \n",
    "          batch_size=BATCH_SIZE, \n",
    "          validation_data=(x_test, y_test), \n",
    "          shuffle=True)\n",
    "\n",
    "# Collect results\n",
    "train_loss = model.history.history[\"loss\"]\n",
    "valid_loss = model.history.history[\"val_loss\"]\n",
    "train_acc = model.history.history[\"accuracy\"]\n",
    "valid_acc = model.history.history[\"val_accuracy\"]"
   ]
  },
  {
   "cell_type": "code",
   "execution_count": 21,
   "metadata": {},
   "outputs": [
    {
     "data": {
      "image/png": "[encoded data removed]",
      "text/plain": [
       "<Figure size 432x288 with 1 Axes>"
      ]
     },
     "metadata": {
      "needs_background": "light"
     },
     "output_type": "display_data"
    },
    {
     "data": {
      "image/png": "[encoded data removed]",
      "text/plain": [
       "<Figure size 432x288 with 1 Axes>"
      ]
     },
     "metadata": {
      "needs_background": "light"
     },
     "output_type": "display_data"
    }
   ],
   "source": [
    "import matplotlib.pyplot as plt\n",
    "%matplotlib inline\n",
    "\"\"\"Code Here\n",
    "將結果繪出\n",
    "\"\"\"\n",
    "plt.plot(range(len(train_loss)), train_loss, label=\"train loss\")\n",
    "plt.plot(range(len(valid_loss)), valid_loss, label=\"valid loss\")\n",
    "plt.legend()\n",
    "plt.title(\"Loss\")\n",
    "plt.show()\n",
    "\n",
    "plt.plot(range(len(train_acc)), train_acc, label=\"train accuracy\")\n",
    "plt.plot(range(len(valid_acc)), valid_acc, label=\"valid accuracy\")\n",
    "plt.legend()\n",
    "plt.title(\"Accuracy\")\n",
    "plt.show()"
   ]
  },
  {
   "cell_type": "code",
   "execution_count": null,
   "metadata": {},
   "outputs": [],
   "source": []
  }
 ],
 "metadata": {
  "kernelspec": {
   "display_name": "Python 3",
   "language": "python",
   "name": "python3"
  },
  "language_info": {
   "codemirror_mode": {
    "name": "ipython",
    "version": 3
   },
   "file_extension": ".py",
   "mimetype": "text/x-python",
   "name": "python",
   "nbconvert_exporter": "python",
   "pygments_lexer": "ipython3",
   "version": "3.7.3"
  }
 },
 "nbformat": 4,
 "nbformat_minor": 2
}
